{
 "cells": [
  {
   "cell_type": "code",
   "execution_count": 1,
   "metadata": {},
   "outputs": [],
   "source": [
    "import sqlite3 # Sqlite'yı dahil ediyoruz\n",
    "\n",
    "con = sqlite3.connect(\"kütüphane.db\") # Tabloya bağlanıyoruz.\n",
    "\n",
    "cursor = con.cursor() # cursor isimli değişken veritabanı üzerinde işlem yapmak için kullanacağımız imleç olacak.\n",
    "\n",
    "def tablo_oluştur():\n",
    "    cursor.execute(\"CREATE TABLE IF NOT EXISTS kitaplık (İsim TEXT, Yazar TEXT, Yayınevi TEXT, Sayfa_Sayısı INT)\") # Sorguyu çalıştırıyoruz.\n",
    "    con.commit() # Sorgunun veritabanı üzerinde geçerli olması için commit işlemi gerekli.\n",
    "tablo_oluştur()\n",
    "con.close() # Bağlantıyı koparıyoruz."
   ]
  },
  {
   "cell_type": "markdown",
   "metadata": {},
   "source": [
    "Şimdi de kitaplık tablomuza veri eklemeye çalışalım. Çalıştıracağımız sorgu şu olacak;\n",
    "\n",
    "INSERT INTO kitaplık VALUES('İstanbul Hatırası','Ahmet Ümit','Everest',561)\n",
    "\n",
    "Not : SQL Sorguları büyük veya küçük harfle de yazılabilir. Örnek olarak\n",
    "\n",
    "insert into kitaplık values ('İstanbul Hatırası','Ahmet Ümit','Everest',561)\n",
    "\n",
    "Insert Into kitaplık Values ('İstanbul Hatırası','Ahmet Ümit','Everest',561)"
   ]
  },
  {
   "cell_type": "code",
   "execution_count": 4,
   "metadata": {},
   "outputs": [
    {
     "ename": "TypeError",
     "evalue": "deger_ekle() missing 4 required positional arguments: 'isim', 'yazar', 'yayınevi', and 'sayfa_sayısı'",
     "output_type": "error",
     "traceback": [
      "\u001b[1;31m---------------------------------------------------------------------------\u001b[0m",
      "\u001b[1;31mTypeError\u001b[0m                                 Traceback (most recent call last)",
      "\u001b[1;32m<ipython-input-4-c3917abad4c3>\u001b[0m in \u001b[0;36m<module>\u001b[1;34m\u001b[0m\n\u001b[0;32m     11\u001b[0m     \u001b[0mcursor\u001b[0m\u001b[1;33m.\u001b[0m\u001b[0mexecute\u001b[0m\u001b[1;33m(\u001b[0m\u001b[1;34m\"INSERT INTO kitaplık VALUES('İstanbul Hatırası','Ahmet Ümit','Everest','261')\"\u001b[0m\u001b[1;33m)\u001b[0m\u001b[1;33m\u001b[0m\u001b[1;33m\u001b[0m\u001b[0m\n\u001b[0;32m     12\u001b[0m     \u001b[0mcon\u001b[0m\u001b[1;33m.\u001b[0m\u001b[0mcommit\u001b[0m\u001b[1;33m(\u001b[0m\u001b[1;33m)\u001b[0m\u001b[1;33m\u001b[0m\u001b[1;33m\u001b[0m\u001b[0m\n\u001b[1;32m---> 13\u001b[1;33m \u001b[0mdeger_ekle\u001b[0m\u001b[1;33m(\u001b[0m\u001b[1;33m)\u001b[0m\u001b[1;33m\u001b[0m\u001b[1;33m\u001b[0m\u001b[0m\n\u001b[0m\u001b[0;32m     14\u001b[0m \u001b[0mcon\u001b[0m\u001b[1;33m.\u001b[0m\u001b[0mclose\u001b[0m\u001b[1;33m(\u001b[0m\u001b[1;33m)\u001b[0m\u001b[1;33m\u001b[0m\u001b[1;33m\u001b[0m\u001b[0m\n",
      "\u001b[1;31mTypeError\u001b[0m: deger_ekle() missing 4 required positional arguments: 'isim', 'yazar', 'yayınevi', and 'sayfa_sayısı'"
     ]
    }
   ],
   "source": [
    "import sqlite3 \n",
    "\n",
    "con = sqlite3.connect(\"kütüphane.db\")\n",
    "\n",
    "cursor = con.cursor() \n",
    "\n",
    "def tablo_oluştur():\n",
    "    cursor.execute(\"CREATE TABLE IF NOT EXISTS kitaplık (İsim TEXT, Yazar TEXT, Yayınevi TEXT, Sayfa_Sayısı INT)\") \n",
    "    con.commit()\n",
    "def deger_ekle(isim,yazar,yayınevi,sayfa_sayısı):\n",
    "    cursor.execute(\"INSERT INTO kitaplık VALUES('İstanbul Hatırası','Ahmet Ümit','Everest','261')\")\n",
    "    con.commit()\n",
    "deger_ekle()\n",
    "con.close()"
   ]
  },
  {
   "cell_type": "code",
   "execution_count": 3,
   "metadata": {},
   "outputs": [
    {
     "name": "stdout",
     "output_type": "stream",
     "text": [
      "İsim:Ahmet \n",
      "Yazar:Ahmet Ümit\n",
      "Yayınevi:Doğan\n",
      "Sayfa Sayısı:456\n"
     ]
    }
   ],
   "source": [
    "import sqlite3 \n",
    "\n",
    "con = sqlite3.connect(\"kütüphane.db\")\n",
    "\n",
    "cursor = con.cursor() \n",
    "\n",
    "def tablo_oluştur():\n",
    "    cursor.execute(\"CREATE TABLE IF NOT EXISTS kitaplık (İsim TEXT, Yazar TEXT, Yayınevi TEXT, Sayfa_Sayısı INT)\") \n",
    "    con.commit()\n",
    "def deger_ekle(isim,yazar,yayınevi,sayfa_sayısı):\n",
    "    cursor.execute(\"INSERT INTO kitaplık VALUES(?,?,?,?)\",(isim,yazar,yayınevi,sayfa_sayısı))\n",
    "    con.commit()\n",
    "isim = input(\"İsim:\")\n",
    "yazar = input(\"Yazar:\")\n",
    "yayınevi = input(\"Yayınevi:\")\n",
    "sayfa_sayısı =  int(input(\"Sayfa Sayısı:\"))\n",
    "\n",
    "\n",
    "deger_ekle(isim,yazar,yayınevi,sayfa_sayısı)\n",
    "\n",
    "con.close()"
   ]
  },
  {
   "cell_type": "code",
   "execution_count": null,
   "metadata": {},
   "outputs": [],
   "source": []
  }
 ],
 "metadata": {
  "kernelspec": {
   "display_name": "Python 3",
   "language": "python",
   "name": "python3"
  },
  "language_info": {
   "codemirror_mode": {
    "name": "ipython",
    "version": 3
   },
   "file_extension": ".py",
   "mimetype": "text/x-python",
   "name": "python",
   "nbconvert_exporter": "python",
   "pygments_lexer": "ipython3",
   "version": "3.7.4"
  }
 },
 "nbformat": 4,
 "nbformat_minor": 2
}
