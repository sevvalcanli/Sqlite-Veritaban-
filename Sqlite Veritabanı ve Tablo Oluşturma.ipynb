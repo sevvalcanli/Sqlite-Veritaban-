{
 "cells": [
  {
   "cell_type": "markdown",
   "metadata": {},
   "source": [
    "# Veritabanı nedir ?\n",
    "Veritabanı uygulamalarımızda , websitelerimizde veya en genel anlamda programlarımızda gerekli olan bilgileri depoladığımız bir yapıdır. Örneğin , Facebook'un kullanıcıları, gönderileri tuttuğu veritabanları gibi. Günümüzde kullanılan bazı veritabanı türleri şunlardır;\n",
    "\n",
    "            Relational Database (İlişkisel Veritabanları) : Tablolardan oluşur. Mysql, Sqlite vs.\n",
    "            DocumentBased Database (Doküman Veritabanları) : Dokümanlardan oluşur. MongoDb, Azure DocumentDb\n",
    "                               //\n",
    "                               //\n",
    "                               //\n",
    "\n",
    "Bizim bu bölümde inceleyeceğimiz veritabanı Sqlite ilişkisel bir veritabanıdır ve bu veritabanı tablolardan oluşur. Her bir tablo veritabanında belli gruplanmış verileri tutar. "
   ]
  },
  {
   "cell_type": "markdown",
   "metadata": {},
   "source": [
    "# Sqlite Veritabanı\n",
    "Bu bölümde göreceğimiz Sqlite veritabanı diğer veritabanları gibi sunucu kurmamızı gerektirmez, yani sunucusuz bir veritabanıdır. Bu anlamda herhangi bir programımızın yanına direk olarak kurulabilir. Peki bu veritabanı üzerinde tablo oluşturma, veri ekleme gibi işlemlerimizi nasıl gerçekleştireceğiz ? İlişkisel veritabanları tablo işlemlerini SQL(Structured Query Language) adında bir sorgulama diliyle gerçekleştirir. Ancak bu sorgulama dili çok kapsamlı olduğu için bu bölümde sadece belli başlı sorguları göstermeye çalışacağım.\n",
    "Sql dilini incelemek isterseniz şu siteye bakabilirsiniz : https://www.w3schools.com/SQL/deFault.asp"
   ]
  },
  {
   "cell_type": "code",
   "execution_count": 2,
   "metadata": {},
   "outputs": [],
   "source": [
    "import sqlite3 # Sqlite'yı dahil ediyoruz\n",
    "\n",
    "con = sqlite3.connect(\"kütüphane.db\") # Tabloya bağlanıyoruz.\n",
    "\n",
    "cursor = con.cursor() # cursor isimli değişken veritabanı üzerinde işlem yapmak için kullanacağımız imleç olacak.\n",
    "\n",
    "\n",
    "con.close() # Bağlantıyı koparıyoruz."
   ]
  },
  {
   "cell_type": "markdown",
   "metadata": {},
   "source": [
    "# Kitaplık Tablosu oluşturma\n",
    "Veritabanında kitaplık isimli bir tablo oluşturmak için şu 2 sorgudan birini kullanabiliriz.\n",
    "\n",
    "CREATE TABLE kitaplık (İsim TEXT, Yazar TEXT, Yayınevi TEXT , Sayfa_Sayısı INT) - Bu sorgu kitaplık isimli bir tablo oluşturacak ve bu tablonun özellikleri İsim (TEXT --> String),Yazar(TEXT --> String),Yayınevi (TEXT ---> String), Sayfa_Sayısı(INT --- int) olacak. Ancak bu sorguyu arda arda çalıştırırsak \"Tablo Already Exists\" hatası alacağız.\n",
    "\n",
    "CREATE TABLE IF NOT EXISTS kitaplık (İsim TEXT, Yazar TEXT, Yayınevi TEXT , Sayfa_Sayısı INT) - Bu sorgu tablo yoksa oluşturacak, tablo varsa hata vermeyecektir. Kodlarımız şu şekilde;"
   ]
  },
  {
   "cell_type": "code",
   "execution_count": 3,
   "metadata": {},
   "outputs": [],
   "source": [
    "import sqlite3 # Sqlite'yı dahil ediyoruz\n",
    "\n",
    "con = sqlite3.connect(\"kütüphane.db\") # Tabloya bağlanıyoruz.\n",
    "\n",
    "cursor = con.cursor() # cursor isimli değişken veritabanı üzerinde işlem yapmak için kullanacağımız imleç olacak.\n",
    "\n",
    "def tablo_oluştur():\n",
    "    cursor.execute(\"CREATE TABLE IF NOT EXISTS kitaplık (İsim TEXT, Yazar TEXT, Yayınevi TEXT, Sayfa_Sayısı INT)\") # Sorguyu çalıştırıyoruz.\n",
    "    con.commit() # Sorgunun veritabanı üzerinde geçerli olması için commit işlemi gerekli.\n",
    "tablo_oluştur()\n",
    "con.close() # Bağlantıyı koparıyoruz."
   ]
  },
  {
   "cell_type": "code",
   "execution_count": null,
   "metadata": {},
   "outputs": [],
   "source": []
  }
 ],
 "metadata": {
  "kernelspec": {
   "display_name": "Python 3",
   "language": "python",
   "name": "python3"
  },
  "language_info": {
   "codemirror_mode": {
    "name": "ipython",
    "version": 3
   },
   "file_extension": ".py",
   "mimetype": "text/x-python",
   "name": "python",
   "nbconvert_exporter": "python",
   "pygments_lexer": "ipython3",
   "version": "3.7.4"
  }
 },
 "nbformat": 4,
 "nbformat_minor": 2
}
